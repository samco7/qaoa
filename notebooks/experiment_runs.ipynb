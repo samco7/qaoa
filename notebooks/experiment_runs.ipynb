{
 "cells": [
  {
   "attachments": {},
   "cell_type": "markdown",
   "metadata": {},
   "source": [
    "# WS-QAOA experiments"
   ]
  },
  {
   "cell_type": "code",
   "execution_count": null,
   "metadata": {},
   "outputs": [],
   "source": [
    "import sys\n",
    "sys.path.insert(0, './../')\n",
    "sys.path.insert(0, './../experiments/')\n",
    "from experiment_0 import *\n",
    "from experiment_1 import *\n",
    "from experiment_2 import *\n",
    "from experiment_3 import *\n",
    "from experiment_4 import *\n",
    "from experiment_5 import *\n",
    "from experiment_6 import *\n",
    "import warnings\n",
    "warnings.filterwarnings('ignore')\n",
    "from matplotlib import pyplot as plt\n",
    "plt.style.use('seaborn-v0_8-whitegrid')\n",
    "backend = AerSimulator(method='statevector', device='GPU', precision='single')"
   ]
  },
  {
   "attachments": {},
   "cell_type": "markdown",
   "metadata": {},
   "source": [
    "## Experiment 0\n",
    "\n",
    "Test the performance of each relaxed classical solver on various numbers of qubits."
   ]
  },
  {
   "cell_type": "code",
   "execution_count": null,
   "metadata": {},
   "outputs": [],
   "source": [
    "# graph_sizes = list(range(10, 41, 5))\n",
    "# n_trials = 10\n",
    "# res = experiment_0(graph_sizes=graph_sizes, n_trials=n_trials)\n",
    "# plot_experiment_0(res)"
   ]
  },
  {
   "attachments": {},
   "cell_type": "markdown",
   "metadata": {},
   "source": [
    "## Experiment 1\n",
    "For a fixed number of qubits, investigate the effect of the regularization parameter $\\epsilon$."
   ]
  },
  {
   "cell_type": "code",
   "execution_count": null,
   "metadata": {},
   "outputs": [],
   "source": [
    "# n_qubits = 20\n",
    "# n_layers = 2\n",
    "# n_trials = 30\n",
    "# shots = 512\n",
    "# res = experiment_1(n_qubits=n_qubits, n_layers=n_layers, n_trials=n_trials, epsilon=.2, backend=backend, shots=shots)\n",
    "# plot_experiment_1(res)"
   ]
  },
  {
   "attachments": {},
   "cell_type": "markdown",
   "metadata": {},
   "source": [
    "## Experiment 2\n",
    "\n",
    "For a fixed number of qubits, run multiple trials over multiple graphs to compare expected circuit measurement values for each warm-start method (none, gw_rounded, bmz_rounded, and bmz)."
   ]
  },
  {
   "cell_type": "code",
   "execution_count": null,
   "metadata": {},
   "outputs": [],
   "source": [
    "# n_qubits = 20\n",
    "# n_layers = 1\n",
    "# n_trials = 10\n",
    "# shots = 512\n",
    "# res = experiment_2(n_qubits=n_qubits, n_layers=n_layers, n_trials=n_trials, backend=backend, shots=shots, optimizer='ADAM')\n",
    "# plot_experiment_2(res)"
   ]
  },
  {
   "attachments": {},
   "cell_type": "markdown",
   "metadata": {},
   "source": [
    "## Experiment 3\n",
    "For a fixed number of qubits, test performance over different values for the shots parameter."
   ]
  },
  {
   "cell_type": "code",
   "execution_count": null,
   "metadata": {},
   "outputs": [],
   "source": [
    "# n_qubits = 20\n",
    "# n_layers = 2\n",
    "# n_trials = 100\n",
    "# shot_vals = [32, 128, 512]\n",
    "# res = experiment_3(n_qubits=n_qubits, n_layers=n_layers, n_trials=n_trials, shot_vals=shot_vals, backend=backend)\n",
    "# plot_experiment_3(res)"
   ]
  },
  {
   "attachments": {},
   "cell_type": "markdown",
   "metadata": {},
   "source": [
    "## Experiment 4\n",
    "Perturbation experiment."
   ]
  },
  {
   "cell_type": "code",
   "execution_count": null,
   "metadata": {},
   "outputs": [],
   "source": [
    "# n_qubits = 20\n",
    "# n_layers = 4\n",
    "# n_trials = 100\n",
    "# perturbation_ratio = .95\n",
    "# shots = 512\n",
    "# res = experiment_4(n_qubits=n_qubits, n_layers=n_layers, n_trials=n_trials, perturbation_ratio=perturbation_ratio, backend=backend, shots=shots)\n",
    "# plot_experiment_4(res)"
   ]
  },
  {
   "attachments": {},
   "cell_type": "markdown",
   "metadata": {},
   "source": [
    "## Experiment 5\n",
    "Layer experiment."
   ]
  },
  {
   "cell_type": "code",
   "execution_count": null,
   "metadata": {},
   "outputs": [],
   "source": [
    "# n_qubits = 20\n",
    "# layer_vals = [2, 4, 6]\n",
    "# n_trials = 30\n",
    "# shots = 512\n",
    "# res = experiment_5(n_qubits=n_qubits, n_trials=n_trials, layer_vals=layer_vals, backend=backend, shots=shots)\n",
    "# plot_experiment_5(res)  "
   ]
  },
  {
   "attachments": {},
   "cell_type": "markdown",
   "metadata": {},
   "source": [
    "## Experiment 6\n",
    "\n",
    "Single layer parameter landscape."
   ]
  },
  {
   "cell_type": "code",
   "execution_count": null,
   "metadata": {},
   "outputs": [],
   "source": [
    "n_qubits = 20\n",
    "seed = 75\n",
    "graph = random_graph(n_qubits, weights_set=list(range(1, 11)), seed=seed)\n",
    "bmz_relaxed = BMZ(graph)\n",
    "bmz_relaxed[1]/akmaxsat(graph)[1]"
   ]
  },
  {
   "cell_type": "code",
   "execution_count": null,
   "metadata": {},
   "outputs": [],
   "source": [
    "n_layers = 1\n",
    "shots = 512\n",
    "standard_qaoa = QAOASolver(n_layers=n_layers, warm_start_method=None, epsilon=None, backend=backend, shots=shots)\n",
    "standard_qaoa.initialize_problem(graph)\n",
    "gw_rounded_qaoa = QAOASolver(n_layers=n_layers, warm_start_method='GW Rounded', epsilon=.25, backend=backend, shots=shots)\n",
    "gw_rounded_qaoa.initialize_problem(graph)\n",
    "state_only_qaoa = QAOASolver(n_layers=n_layers, warm_start_method='BMZ', epsilon=.2, backend=backend, shots=shots, adjust_mixer=False)\n",
    "state_only_qaoa.initialize_problem(graph, relaxed_solution=bmz_relaxed)\n",
    "bmz_rounded_qaoa = QAOASolver(n_layers=n_layers, warm_start_method='BMZ Rounded', epsilon=.25, backend=backend, shots=shots)\n",
    "bmz_rounded_qaoa.initialize_problem(graph, relaxed_solution=bmz_relaxed)\n",
    "bmz_qaoa = QAOASolver(n_layers=n_layers, warm_start_method='BMZ', epsilon=.2, backend=backend, shots=shots)\n",
    "bmz_qaoa.initialize_problem(graph, relaxed_solution=bmz_relaxed)\n",
    "\n",
    "solvers = [standard_qaoa, gw_rounded_qaoa, state_only_qaoa, bmz_rounded_qaoa, bmz_qaoa]"
   ]
  },
  {
   "cell_type": "code",
   "execution_count": null,
   "metadata": {},
   "outputs": [],
   "source": [
    "n_betas_inner = 50\n",
    "n_betas_outer = 30\n",
    "n_gammas_inner = 50\n",
    "n_gammas_outer = 30\n",
    "res = experiment_6(solvers, n_betas_inner, n_betas_outer, n_gammas_inner, n_gammas_outer, seed_used=seed)\n",
    "plot_experiment_6(res)"
   ]
  }
 ],
 "metadata": {
  "kernelspec": {
   "display_name": "base",
   "language": "python",
   "name": "python3"
  },
  "language_info": {
   "codemirror_mode": {
    "name": "ipython",
    "version": 3
   },
   "file_extension": ".py",
   "mimetype": "text/x-python",
   "name": "python",
   "nbconvert_exporter": "python",
   "pygments_lexer": "ipython3",
   "version": "3.9.16"
  },
  "orig_nbformat": 4,
  "vscode": {
   "interpreter": {
    "hash": "49cf37268749fc5934244e7d32ff1c5fb1e28ef2dbf91ef8cdeab333576cccf8"
   }
  }
 },
 "nbformat": 4,
 "nbformat_minor": 2
}
